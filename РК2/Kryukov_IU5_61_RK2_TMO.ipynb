{
  "nbformat": 4,
  "nbformat_minor": 0,
  "metadata": {
    "colab": {
      "name": "Untitled1.ipynb",
      "provenance": []
    },
    "kernelspec": {
      "name": "python3",
      "display_name": "Python 3"
    }
  },
  "cells": [
    {
      "cell_type": "code",
      "metadata": {
        "id": "q7osVWBrTY1E",
        "colab_type": "code",
        "colab": {}
      },
      "source": [
        "import numpy as np\n",
        "import pandas as pd\n",
        "import seaborn as sns\n",
        "import matplotlib.pyplot as plt\n",
        "\n",
        "from sklearn.model_selection import train_test_split\n",
        "from sklearn.feature_extraction.text import CountVectorizer, TfidfVectorizer\n",
        "from sklearn.metrics import accuracy_score, precision_score, recall_score, f1_score\n",
        "from sklearn.svm import SVC\n",
        "from sklearn.linear_model import SGDClassifier\n",
        "from sklearn.naive_bayes import MultinomialNB, ComplementNB, BernoulliNB\n",
        "from sklearn.pipeline import Pipeline\n",
        "from sklearn.tree import DecisionTreeClassifier"
      ],
      "execution_count": 0,
      "outputs": []
    },
    {
      "cell_type": "code",
      "metadata": {
        "id": "9YLv8TVSTZ66",
        "colab_type": "code",
        "colab": {
          "base_uri": "https://localhost:8080/",
          "height": 202
        },
        "outputId": "71c4abae-ae75-48d1-93a1-688b36c663c0"
      },
      "source": [
        "# Загрузка данных\n",
        "data = pd.read_csv(\"/content/yelp_labelled.txt\", delimiter='\\t', header=None, names=['text', 'value'])\n",
        "data.head()"
      ],
      "execution_count": 103,
      "outputs": [
        {
          "output_type": "execute_result",
          "data": {
            "text/html": [
              "<div>\n",
              "<style scoped>\n",
              "    .dataframe tbody tr th:only-of-type {\n",
              "        vertical-align: middle;\n",
              "    }\n",
              "\n",
              "    .dataframe tbody tr th {\n",
              "        vertical-align: top;\n",
              "    }\n",
              "\n",
              "    .dataframe thead th {\n",
              "        text-align: right;\n",
              "    }\n",
              "</style>\n",
              "<table border=\"1\" class=\"dataframe\">\n",
              "  <thead>\n",
              "    <tr style=\"text-align: right;\">\n",
              "      <th></th>\n",
              "      <th>text</th>\n",
              "      <th>value</th>\n",
              "    </tr>\n",
              "  </thead>\n",
              "  <tbody>\n",
              "    <tr>\n",
              "      <th>0</th>\n",
              "      <td>Wow... Loved this place.</td>\n",
              "      <td>1</td>\n",
              "    </tr>\n",
              "    <tr>\n",
              "      <th>1</th>\n",
              "      <td>Crust is not good.</td>\n",
              "      <td>0</td>\n",
              "    </tr>\n",
              "    <tr>\n",
              "      <th>2</th>\n",
              "      <td>Not tasty and the texture was just nasty.</td>\n",
              "      <td>0</td>\n",
              "    </tr>\n",
              "    <tr>\n",
              "      <th>3</th>\n",
              "      <td>Stopped by during the late May bank holiday of...</td>\n",
              "      <td>1</td>\n",
              "    </tr>\n",
              "    <tr>\n",
              "      <th>4</th>\n",
              "      <td>The selection on the menu was great and so wer...</td>\n",
              "      <td>1</td>\n",
              "    </tr>\n",
              "  </tbody>\n",
              "</table>\n",
              "</div>"
            ],
            "text/plain": [
              "                                                text  value\n",
              "0                           Wow... Loved this place.      1\n",
              "1                                 Crust is not good.      0\n",
              "2          Not tasty and the texture was just nasty.      0\n",
              "3  Stopped by during the late May bank holiday of...      1\n",
              "4  The selection on the menu was great and so wer...      1"
            ]
          },
          "metadata": {
            "tags": []
          },
          "execution_count": 103
        }
      ]
    },
    {
      "cell_type": "code",
      "metadata": {
        "id": "L0I1k5VEVcFp",
        "colab_type": "code",
        "colab": {
          "base_uri": "https://localhost:8080/",
          "height": 34
        },
        "outputId": "75b2be94-d1e6-4a26-f6da-064a90804d80"
      },
      "source": [
        "yelp_df.shape"
      ],
      "execution_count": 101,
      "outputs": [
        {
          "output_type": "execute_result",
          "data": {
            "text/plain": [
              "(1000, 2)"
            ]
          },
          "metadata": {
            "tags": []
          },
          "execution_count": 101
        }
      ]
    },
    {
      "cell_type": "code",
      "metadata": {
        "id": "MEc7R0s_XR2u",
        "colab_type": "code",
        "colab": {}
      },
      "source": [
        "X_train, X_test, y_train, y_test = train_test_split(data['text'], data['value'], test_size=0.25, random_state=1)"
      ],
      "execution_count": 0,
      "outputs": []
    },
    {
      "cell_type": "code",
      "metadata": {
        "id": "t5RZfEOxXq1B",
        "colab_type": "code",
        "colab": {
          "base_uri": "https://localhost:8080/",
          "height": 86
        },
        "outputId": "0f5138b3-8b48-4735-c583-bae994eec1eb"
      },
      "source": [
        "print(\"X_train:\", X_train.shape)\n",
        "print(\"X_test:\", X_test.shape)\n",
        "print(\"y_train:\", y_train.shape)\n",
        "print(\"y_test:\", y_test.shape)"
      ],
      "execution_count": 105,
      "outputs": [
        {
          "output_type": "stream",
          "text": [
            "X_train: (750,)\n",
            "X_test: (250,)\n",
            "y_train: (750,)\n",
            "y_test: (250,)\n"
          ],
          "name": "stdout"
        }
      ]
    },
    {
      "cell_type": "code",
      "metadata": {
        "id": "ypSSdPZIXrzu",
        "colab_type": "code",
        "colab": {
          "base_uri": "https://localhost:8080/",
          "height": 225
        },
        "outputId": "be3ba8bb-0669-485a-ca4a-cc811bc8b630"
      },
      "source": [
        "X_train"
      ],
      "execution_count": 106,
      "outputs": [
        {
          "output_type": "execute_result",
          "data": {
            "text/plain": [
              "298          Never again will I be dining at this place!\n",
              "160    I came back today since they relocated and sti...\n",
              "268    Just as good as when I had it more than a year...\n",
              "658                    It was just not a fun experience.\n",
              "996                             Appetite instantly gone.\n",
              "                             ...                        \n",
              "767                               The block was amazing.\n",
              "72                                  The service was meh.\n",
              "908                               We won't be returning.\n",
              "235    If it were possible to give them zero stars, t...\n",
              "37     Poor service, the waiter made me feel like I w...\n",
              "Name: text, Length: 750, dtype: object"
            ]
          },
          "metadata": {
            "tags": []
          },
          "execution_count": 106
        }
      ]
    },
    {
      "cell_type": "code",
      "metadata": {
        "id": "Kec6q6L9Xutk",
        "colab_type": "code",
        "colab": {
          "base_uri": "https://localhost:8080/",
          "height": 225
        },
        "outputId": "fc5d24de-10c1-4944-a924-80522778a5be"
      },
      "source": [
        "X_test"
      ],
      "execution_count": 107,
      "outputs": [
        {
          "output_type": "execute_result",
          "data": {
            "text/plain": [
              "507                  My gyro was basically lettuce only.\n",
              "818    It kept getting worse and worse so now I'm off...\n",
              "452    I am far from a sushi connoisseur but I can de...\n",
              "368          The staff are great, the ambiance is great.\n",
              "242    By this time our side of the restaurant was al...\n",
              "                             ...                        \n",
              "385    I don't recommend unless your car breaks down ...\n",
              "890    My boyfriend tried the Mediterranean Chicken S...\n",
              "439                If you're not familiar, check it out.\n",
              "135    Great Subway, in fact it's so good when you co...\n",
              "567                                  Food was delicious!\n",
              "Name: text, Length: 250, dtype: object"
            ]
          },
          "metadata": {
            "tags": []
          },
          "execution_count": 107
        }
      ]
    },
    {
      "cell_type": "code",
      "metadata": {
        "id": "7bGqoXMTXwQk",
        "colab_type": "code",
        "colab": {
          "base_uri": "https://localhost:8080/",
          "height": 268
        },
        "outputId": "d0f742ba-373b-4d27-e039-ebe29a3d7aa0"
      },
      "source": [
        "# В целевом признаке распределение классов равномерное\n",
        "plt.hist(data['value'])\n",
        "plt.show()"
      ],
      "execution_count": 108,
      "outputs": [
        {
          "output_type": "display_data",
          "data": {
            "image/png": "[encoded data removed]",
            "text/plain": [
              "<Figure size 432x288 with 1 Axes>"
            ]
          },
          "metadata": {
            "tags": []
          }
        }
      ]
    },
    {
      "cell_type": "code",
      "metadata": {
        "id": "dr2F-5sdXySB",
        "colab_type": "code",
        "colab": {}
      },
      "source": [
        "vectorizer = TfidfVectorizer(lowercase=True, stop_words=None, \n",
        "                             use_idf=True, ngram_range=(1,1),\n",
        "                             smooth_idf=False)                        \n",
        "X_train = vectorizer.fit_transform(X_train)\n",
        "X_test = vectorizer.transform(X_test)"
      ],
      "execution_count": 0,
      "outputs": []
    },
    {
      "cell_type": "code",
      "metadata": {
        "id": "D7SRIdrbX0ia",
        "colab_type": "code",
        "colab": {
          "base_uri": "https://localhost:8080/",
          "height": 52
        },
        "outputId": "4c82c506-b332-451c-f32c-ad373cc138a0"
      },
      "source": [
        "X_train"
      ],
      "execution_count": 110,
      "outputs": [
        {
          "output_type": "execute_result",
          "data": {
            "text/plain": [
              "<750x1711 sparse matrix of type '<class 'numpy.float64'>'\n",
              "\twith 7315 stored elements in Compressed Sparse Row format>"
            ]
          },
          "metadata": {
            "tags": []
          },
          "execution_count": 110
        }
      ]
    },
    {
      "cell_type": "code",
      "metadata": {
        "id": "KR5aeYjMX1xy",
        "colab_type": "code",
        "colab": {
          "base_uri": "https://localhost:8080/",
          "height": 52
        },
        "outputId": "c45b05e5-19a1-49a8-fa3e-4dcf0283385b"
      },
      "source": [
        "X_test"
      ],
      "execution_count": 111,
      "outputs": [
        {
          "output_type": "execute_result",
          "data": {
            "text/plain": [
              "<250x1711 sparse matrix of type '<class 'numpy.float64'>'\n",
              "\twith 2120 stored elements in Compressed Sparse Row format>"
            ]
          },
          "metadata": {
            "tags": []
          },
          "execution_count": 111
        }
      ]
    },
    {
      "cell_type": "code",
      "metadata": {
        "id": "VInarp79X3-I",
        "colab_type": "code",
        "colab": {}
      },
      "source": [
        "def test_model(classifiers_list):\n",
        "    for c in classifiers_list:\n",
        "        c.fit(X_train, y_train)\n",
        "        y_pred = c.predict(X_test)\n",
        "        print('Модель для классификации - {}'.format(c)) \n",
        "        print('====================================')\n",
        "        print('accuracy_score:  ', accuracy_score(y_test, y_pred))\n",
        "        print('precision_score: ', precision_score(y_test, y_pred))\n",
        "        print('recall_score:    ', recall_score(y_test, y_pred))\n",
        "        print('f1_score:        ', f1_score(y_test, y_pred))  \n",
        "        print('====================================')"
      ],
      "execution_count": 0,
      "outputs": []
    },
    {
      "cell_type": "code",
      "metadata": {
        "id": "nKxYUZ16YACz",
        "colab_type": "code",
        "colab": {
          "base_uri": "https://localhost:8080/",
          "height": 762
        },
        "outputId": "1d172e6f-ada2-45c0-db5b-b8c511611d05"
      },
      "source": [
        "classifiers_list = [DecisionTreeClassifier(random_state=1),\n",
        "                    SVC(kernel='rbf'), \n",
        "                    MultinomialNB(),\n",
        "                    ComplementNB(),\n",
        "                    BernoulliNB()]\n",
        "test_model(classifiers_list)"
      ],
      "execution_count": 116,
      "outputs": [
        {
          "output_type": "stream",
          "text": [
            "Модель для классификации - DecisionTreeClassifier(ccp_alpha=0.0, class_weight=None, criterion='gini',\n",
            "                       max_depth=None, max_features=None, max_leaf_nodes=None,\n",
            "                       min_impurity_decrease=0.0, min_impurity_split=None,\n",
            "                       min_samples_leaf=1, min_samples_split=2,\n",
            "                       min_weight_fraction_leaf=0.0, presort='deprecated',\n",
            "                       random_state=1, splitter='best')\n",
            "====================================\n",
            "accuracy_score:   0.736\n",
            "precision_score:  0.7016129032258065\n",
            "recall_score:     0.75\n",
            "f1_score:         0.725\n",
            "====================================\n",
            "Модель для классификации - SVC(C=1.0, break_ties=False, cache_size=200, class_weight=None, coef0=0.0,\n",
            "    decision_function_shape='ovr', degree=3, gamma='scale', kernel='rbf',\n",
            "    max_iter=-1, probability=False, random_state=None, shrinking=True,\n",
            "    tol=0.001, verbose=False)\n",
            "====================================\n",
            "accuracy_score:   0.84\n",
            "precision_score:  0.8333333333333334\n",
            "recall_score:     0.8189655172413793\n",
            "f1_score:         0.8260869565217391\n",
            "====================================\n",
            "Модель для классификации - MultinomialNB(alpha=1.0, class_prior=None, fit_prior=True)\n",
            "====================================\n",
            "accuracy_score:   0.784\n",
            "precision_score:  0.75\n",
            "recall_score:     0.8017241379310345\n",
            "f1_score:         0.7749999999999999\n",
            "====================================\n",
            "Модель для классификации - ComplementNB(alpha=1.0, class_prior=None, fit_prior=True, norm=False)\n",
            "====================================\n",
            "accuracy_score:   0.776\n",
            "precision_score:  0.7586206896551724\n",
            "recall_score:     0.7586206896551724\n",
            "f1_score:         0.7586206896551724\n",
            "====================================\n",
            "Модель для классификации - BernoulliNB(alpha=1.0, binarize=0.0, class_prior=None, fit_prior=True)\n",
            "====================================\n",
            "accuracy_score:   0.728\n",
            "precision_score:  0.6643835616438356\n",
            "recall_score:     0.8362068965517241\n",
            "f1_score:         0.7404580152671757\n",
            "====================================\n"
          ],
          "name": "stdout"
        }
      ]
    }
  ]
}